{
 "cells": [
  {
   "cell_type": "markdown",
   "id": "28c53cae",
   "metadata": {},
   "source": [
    "# Projeto - Análise de Vagas"
   ]
  },
  {
   "cell_type": "markdown",
   "id": "51767512",
   "metadata": {},
   "source": [
    "### Disclaimer\n",
    "Aqui estão reunidas as vagas de emprego para as quais realizei a submissão para a vaga.\n",
    "As informações obtidas aqui, foram oriundas dos emails das próprias plataformas.\n",
    "Alguns dados ainda faltam ser organizados, informações faltantes foram substituídas por N/A na planilha e CSV.\n",
    "A planiha conta com os seguintes campos:\n",
    "- Empresa: nome da empresa para qual foi feita a submissão\n",
    "- Aplicação: plataforma usada para envio do currículo;\n",
    "- Entrevista: se foi realizada alguma entrevista;\n",
    "- Resposta: se a resposta final enviada foi genérica ou personaliza (classifiquei nesse primeiro momento, resposta genéricas sendo aquelas vindas da plataforma e personalizadas como sendo aquelas envidas com email corporativo do recrutador);\n",
    "- Vaga: título da vaga como descrito pelo recrutador na plataforma;\n",
    "- Etapa: etapa do processo seletivo de acordo com a plataforma de recrutamento;\n",
    "- Remoto: se a vaga era trabalho remoto ou não;\n",
    "- Senioridade: qual a senioridade para a vaga (caso a vaga possuir mais de uma senioridade, o preenchimento foi feito de acordo com a minha senioridade para a vaga;\n",
    "- Data Submissão: data em que foi realizada a submissão para a vaga;\n",
    "- Data Entrevista: data em que foi realizada a entevista;\n",
    "- Data Resposta: data em que recebi a resposta sobre o processo de seleção:\n",
    "- Data Visualização: data em que o recrutado visualizou a submissão;\n"
   ]
  },
  {
   "cell_type": "markdown",
   "id": "10014d4e",
   "metadata": {},
   "source": [
    "Antes de começar as análises, foi preciso fazer alguns ajustes no CSV, sendo eles:\n",
    "\n",
    "- O arquivo original estava separado por ponto e vírgula (;), foi realizada a subtituição para vírgula;\n",
    "- Alguns campos possuiam vírgulas internamente, resultando em erro na leitura do campo, genrando um falso item extra no campo, acorreção foi feita retirando-se a virgula;\n",
    "- Retirada dos acentos;"
   ]
  },
  {
   "cell_type": "markdown",
   "id": "1c475607",
   "metadata": {},
   "source": [
    "#### imports"
   ]
  },
  {
   "cell_type": "code",
   "execution_count": 72,
   "id": "a3d6239c",
   "metadata": {},
   "outputs": [],
   "source": [
    "#imports\n",
    "\n",
    "import pandas as pd\n",
    "import numpy as np\n",
    "import matplotlib.pyplot as plt\n",
    "import seaborn as sns\n",
    "\n",
    "#para ignorar alguns avisos durante a plotagem dos gráficos\n",
    "import warnings\n",
    "warnings.filterwarnings('ignore')"
   ]
  },
  {
   "cell_type": "markdown",
   "id": "e34c88f9",
   "metadata": {},
   "source": [
    "#### arquivo usando (;) como separador"
   ]
  },
  {
   "cell_type": "code",
   "execution_count": 3,
   "id": "f330de0b",
   "metadata": {},
   "outputs": [
    {
     "data": {
      "text/html": [
       "<div>\n",
       "<style scoped>\n",
       "    .dataframe tbody tr th:only-of-type {\n",
       "        vertical-align: middle;\n",
       "    }\n",
       "\n",
       "    .dataframe tbody tr th {\n",
       "        vertical-align: top;\n",
       "    }\n",
       "\n",
       "    .dataframe thead th {\n",
       "        text-align: right;\n",
       "    }\n",
       "</style>\n",
       "<table border=\"1\" class=\"dataframe\">\n",
       "  <thead>\n",
       "    <tr style=\"text-align: right;\">\n",
       "      <th></th>\n",
       "      <th>Empresa;Aplicacao;Entrevista;Resposta;Vaga;Etapa;Remoto;Senioridade;Data Submissao;Data Entrevista;Data Resposta;Data Visualizacao;</th>\n",
       "    </tr>\n",
       "  </thead>\n",
       "  <tbody>\n",
       "    <tr>\n",
       "      <th>0</th>\n",
       "      <td>Belvo;LinkedIn;Sim;Personalizada;Python Develo...</td>\n",
       "    </tr>\n",
       "    <tr>\n",
       "      <th>1</th>\n",
       "      <td>Zyte;Workable;Sim;Personalizada;Python Develop...</td>\n",
       "    </tr>\n",
       "    <tr>\n",
       "      <th>2</th>\n",
       "      <td>Mobi2Buy;Gupy;Nao;N/A;Desenvolvedor Python;Cad...</td>\n",
       "    </tr>\n",
       "  </tbody>\n",
       "</table>\n",
       "</div>"
      ],
      "text/plain": [
       "  Empresa;Aplicacao;Entrevista;Resposta;Vaga;Etapa;Remoto;Senioridade;Data Submissao;Data Entrevista;Data Resposta;Data Visualizacao;\n",
       "0  Belvo;LinkedIn;Sim;Personalizada;Python Develo...                                                                                 \n",
       "1  Zyte;Workable;Sim;Personalizada;Python Develop...                                                                                 \n",
       "2  Mobi2Buy;Gupy;Nao;N/A;Desenvolvedor Python;Cad...                                                                                 "
      ]
     },
     "execution_count": 3,
     "metadata": {},
     "output_type": "execute_result"
    }
   ],
   "source": [
    "#arquivo usando (;) como separador\n",
    "\n",
    "dfOff = pd.read_csv('VagasOff.csv')\n",
    "dfOff.head(3)"
   ]
  },
  {
   "cell_type": "markdown",
   "id": "825d8083",
   "metadata": {},
   "source": [
    "#### arquivo ajustado (, como separador)"
   ]
  },
  {
   "cell_type": "code",
   "execution_count": 6,
   "id": "81662699",
   "metadata": {},
   "outputs": [
    {
     "data": {
      "text/html": [
       "<div>\n",
       "<style scoped>\n",
       "    .dataframe tbody tr th:only-of-type {\n",
       "        vertical-align: middle;\n",
       "    }\n",
       "\n",
       "    .dataframe tbody tr th {\n",
       "        vertical-align: top;\n",
       "    }\n",
       "\n",
       "    .dataframe thead th {\n",
       "        text-align: right;\n",
       "    }\n",
       "</style>\n",
       "<table border=\"1\" class=\"dataframe\">\n",
       "  <thead>\n",
       "    <tr style=\"text-align: right;\">\n",
       "      <th></th>\n",
       "      <th>Empresa</th>\n",
       "      <th>Aplicacao</th>\n",
       "      <th>Entrevista</th>\n",
       "      <th>Resposta</th>\n",
       "      <th>Vaga</th>\n",
       "      <th>Etapa</th>\n",
       "      <th>Remoto</th>\n",
       "      <th>Senioridade</th>\n",
       "      <th>Data Submissao</th>\n",
       "      <th>Data Entrevista</th>\n",
       "      <th>Data Resposta</th>\n",
       "      <th>Data Visualizacao</th>\n",
       "      <th>Unnamed: 12</th>\n",
       "    </tr>\n",
       "  </thead>\n",
       "  <tbody>\n",
       "    <tr>\n",
       "      <th>0</th>\n",
       "      <td>Belvo</td>\n",
       "      <td>LinkedIn</td>\n",
       "      <td>Sim</td>\n",
       "      <td>Personalizada</td>\n",
       "      <td>Python Developer</td>\n",
       "      <td>NaN</td>\n",
       "      <td>Sim</td>\n",
       "      <td>NaN</td>\n",
       "      <td>06/12/2021</td>\n",
       "      <td>10/12/2021</td>\n",
       "      <td>13/12/2021</td>\n",
       "      <td>NaN</td>\n",
       "      <td>NaN</td>\n",
       "    </tr>\n",
       "    <tr>\n",
       "      <th>1</th>\n",
       "      <td>Zyte</td>\n",
       "      <td>Workable</td>\n",
       "      <td>Sim</td>\n",
       "      <td>Personalizada</td>\n",
       "      <td>Python Developer -Remote</td>\n",
       "      <td>NaN</td>\n",
       "      <td>Sim</td>\n",
       "      <td>NaN</td>\n",
       "      <td>09/12/2021</td>\n",
       "      <td>12/12/2021</td>\n",
       "      <td>07/03/2022</td>\n",
       "      <td>NaN</td>\n",
       "      <td>NaN</td>\n",
       "    </tr>\n",
       "    <tr>\n",
       "      <th>2</th>\n",
       "      <td>Mobi2Buy</td>\n",
       "      <td>Gupy</td>\n",
       "      <td>Nao</td>\n",
       "      <td>NaN</td>\n",
       "      <td>Desenvolvedor Python</td>\n",
       "      <td>Cadastro</td>\n",
       "      <td>Sim</td>\n",
       "      <td>NaN</td>\n",
       "      <td>13/12/2021</td>\n",
       "      <td>NaN</td>\n",
       "      <td>NaN</td>\n",
       "      <td>NaN</td>\n",
       "      <td>NaN</td>\n",
       "    </tr>\n",
       "    <tr>\n",
       "      <th>3</th>\n",
       "      <td>Compay Hero</td>\n",
       "      <td>Gupy</td>\n",
       "      <td>Nao</td>\n",
       "      <td>NaN</td>\n",
       "      <td>Desenvolvedor Python Junior</td>\n",
       "      <td>Cadastro</td>\n",
       "      <td>Sim</td>\n",
       "      <td>Junior</td>\n",
       "      <td>13/12/2021</td>\n",
       "      <td>NaN</td>\n",
       "      <td>NaN</td>\n",
       "      <td>NaN</td>\n",
       "      <td>NaN</td>\n",
       "    </tr>\n",
       "    <tr>\n",
       "      <th>4</th>\n",
       "      <td>WeRecruiter</td>\n",
       "      <td>Gupy</td>\n",
       "      <td>Nao</td>\n",
       "      <td>Generica</td>\n",
       "      <td>Desenvolvedore Python Junior</td>\n",
       "      <td>Resposta</td>\n",
       "      <td>Sim</td>\n",
       "      <td>Junior</td>\n",
       "      <td>13/12/2021</td>\n",
       "      <td>NaN</td>\n",
       "      <td>01/03/2022</td>\n",
       "      <td>NaN</td>\n",
       "      <td>NaN</td>\n",
       "    </tr>\n",
       "  </tbody>\n",
       "</table>\n",
       "</div>"
      ],
      "text/plain": [
       "       Empresa Aplicacao Entrevista       Resposta  \\\n",
       "0        Belvo  LinkedIn        Sim  Personalizada   \n",
       "1         Zyte  Workable        Sim  Personalizada   \n",
       "2     Mobi2Buy      Gupy        Nao            NaN   \n",
       "3  Compay Hero      Gupy        Nao            NaN   \n",
       "4  WeRecruiter      Gupy        Nao       Generica   \n",
       "\n",
       "                           Vaga     Etapa Remoto Senioridade Data Submissao  \\\n",
       "0              Python Developer       NaN    Sim         NaN     06/12/2021   \n",
       "1      Python Developer -Remote       NaN    Sim         NaN     09/12/2021   \n",
       "2          Desenvolvedor Python  Cadastro    Sim         NaN     13/12/2021   \n",
       "3   Desenvolvedor Python Junior  Cadastro    Sim      Junior     13/12/2021   \n",
       "4  Desenvolvedore Python Junior  Resposta    Sim      Junior     13/12/2021   \n",
       "\n",
       "  Data Entrevista Data Resposta Data Visualizacao  Unnamed: 12  \n",
       "0      10/12/2021    13/12/2021               NaN          NaN  \n",
       "1      12/12/2021    07/03/2022               NaN          NaN  \n",
       "2             NaN           NaN               NaN          NaN  \n",
       "3             NaN           NaN               NaN          NaN  \n",
       "4             NaN    01/03/2022               NaN          NaN  "
      ]
     },
     "execution_count": 6,
     "metadata": {},
     "output_type": "execute_result"
    }
   ],
   "source": [
    "#arquivo ajustado\n",
    "\n",
    "df = pd.read_csv('Vagas.csv')\n",
    "df.head()"
   ]
  },
  {
   "cell_type": "code",
   "execution_count": 4,
   "id": "5897bb59",
   "metadata": {},
   "outputs": [
    {
     "name": "stdout",
     "output_type": "stream",
     "text": [
      "<class 'pandas.core.frame.DataFrame'>\n",
      "RangeIndex: 152 entries, 0 to 151\n",
      "Data columns (total 13 columns):\n",
      " #   Column             Non-Null Count  Dtype  \n",
      "---  ------             --------------  -----  \n",
      " 0   Empresa            152 non-null    object \n",
      " 1   Aplicacao          150 non-null    object \n",
      " 2   Entrevista         152 non-null    object \n",
      " 3   Resposta           39 non-null     object \n",
      " 4   Vaga               148 non-null    object \n",
      " 5   Etapa              22 non-null     object \n",
      " 6   Remoto             152 non-null    object \n",
      " 7   Senioridade        47 non-null     object \n",
      " 8   Data Submissao     136 non-null    object \n",
      " 9   Data Entrevista    3 non-null      object \n",
      " 10  Data Resposta      48 non-null     object \n",
      " 11  Data Visualizacao  36 non-null     object \n",
      " 12  Unnamed: 12        0 non-null      float64\n",
      "dtypes: float64(1), object(12)\n",
      "memory usage: 15.6+ KB\n"
     ]
    }
   ],
   "source": [
    "df.info()"
   ]
  },
  {
   "cell_type": "markdown",
   "id": "aafa1b66",
   "metadata": {},
   "source": [
    "#### Removendo a coluna Unnamed: 12"
   ]
  },
  {
   "cell_type": "code",
   "execution_count": 5,
   "id": "7b659622",
   "metadata": {},
   "outputs": [],
   "source": [
    "del df['Unnamed: 12']"
   ]
  },
  {
   "cell_type": "code",
   "execution_count": 6,
   "id": "e52fc855",
   "metadata": {},
   "outputs": [
    {
     "name": "stdout",
     "output_type": "stream",
     "text": [
      "<class 'pandas.core.frame.DataFrame'>\n",
      "RangeIndex: 152 entries, 0 to 151\n",
      "Data columns (total 12 columns):\n",
      " #   Column             Non-Null Count  Dtype \n",
      "---  ------             --------------  ----- \n",
      " 0   Empresa            152 non-null    object\n",
      " 1   Aplicacao          150 non-null    object\n",
      " 2   Entrevista         152 non-null    object\n",
      " 3   Resposta           39 non-null     object\n",
      " 4   Vaga               148 non-null    object\n",
      " 5   Etapa              22 non-null     object\n",
      " 6   Remoto             152 non-null    object\n",
      " 7   Senioridade        47 non-null     object\n",
      " 8   Data Submissao     136 non-null    object\n",
      " 9   Data Entrevista    3 non-null      object\n",
      " 10  Data Resposta      48 non-null     object\n",
      " 11  Data Visualizacao  36 non-null     object\n",
      "dtypes: object(12)\n",
      "memory usage: 14.4+ KB\n"
     ]
    }
   ],
   "source": [
    "df.info()"
   ]
  },
  {
   "cell_type": "markdown",
   "id": "5ee2b81d",
   "metadata": {},
   "source": [
    "Pelas informçãoes apresentadas, podemos fazer alguns apontamentos:\n",
    "- Foi feito o envio para 152 vagas;\n",
    "- Foram realizadas 3 entrevista;\n",
    "- Várias empresas não deram resposta sobre o resultado da seleção;"
   ]
  },
  {
   "cell_type": "markdown",
   "id": "54167032",
   "metadata": {},
   "source": [
    "Vários Campos não possuem dados, vamos verificar a quantidade destes campo no DataFrame"
   ]
  },
  {
   "cell_type": "markdown",
   "id": "802060ee",
   "metadata": {},
   "source": [
    "#### Os campos que não possuem dados e a quantidade de dados faltantes, é a seguinte"
   ]
  },
  {
   "cell_type": "code",
   "execution_count": 7,
   "id": "d055d36d",
   "metadata": {},
   "outputs": [
    {
     "data": {
      "text/plain": [
       "Empresa                0\n",
       "Aplicacao              2\n",
       "Entrevista             0\n",
       "Resposta             113\n",
       "Vaga                   4\n",
       "Etapa                130\n",
       "Remoto                 0\n",
       "Senioridade          105\n",
       "Data Submissao        16\n",
       "Data Entrevista      149\n",
       "Data Resposta        104\n",
       "Data Visualizacao    116\n",
       "dtype: int64"
      ]
     },
     "execution_count": 7,
     "metadata": {},
     "output_type": "execute_result"
    }
   ],
   "source": [
    "df.isna().sum()"
   ]
  },
  {
   "cell_type": "markdown",
   "id": "fe0db4bb",
   "metadata": {},
   "source": [
    "#### Gráfico mostrando a relação Empresas X Entrevistas x Respostas"
   ]
  },
  {
   "cell_type": "code",
   "execution_count": 9,
   "id": "8185f90d",
   "metadata": {},
   "outputs": [
    {
     "data": {
      "image/png": "[encoded data removed]",
      "text/plain": [
       "<Figure size 432x288 with 1 Axes>"
      ]
     },
     "metadata": {},
     "output_type": "display_data"
    }
   ],
   "source": [
    "eer = np.array([df['Empresa'].count(), df['Data Entrevista'].count(), df['Resposta'].count()])\n",
    "labels = 'Empresas', 'Entrevistas', 'Respostas'\n",
    "fig, ax = plt.subplots()\n",
    "ax.pie(eer, labels=labels)\n",
    "ax.set_title('Empresas X Respostas X Entrevistas')\n",
    "plt.show()"
   ]
  },
  {
   "cell_type": "markdown",
   "id": "5a02efe2",
   "metadata": {},
   "source": [
    "#### Descobrindo o intervalo de dias entre a submissão da vaga e a resposta final sobre a seleção"
   ]
  },
  {
   "cell_type": "code",
   "execution_count": 11,
   "id": "5ec01b5f",
   "metadata": {},
   "outputs": [
    {
     "data": {
      "text/plain": [
       "0      7 days\n",
       "1     88 days\n",
       "4     78 days\n",
       "10    14 days\n",
       "21    23 days\n",
       "22     3 days\n",
       "26    21 days\n",
       "31     9 days\n",
       "40    51 days\n",
       "42     4 days\n",
       "44     0 days\n",
       "46    52 days\n",
       "48     5 days\n",
       "56    12 days\n",
       "58    10 days\n",
       "64     4 days\n",
       "71     6 days\n",
       "75    43 days\n",
       "79     3 days\n",
       "83     3 days\n",
       "90    57 days\n",
       "97    10 days\n",
       "98     3 days\n",
       "100   10 days\n",
       "103    7 days\n",
       "104    0 days\n",
       "115    3 days\n",
       "121   17 days\n",
       "124   33 days\n",
       "135    4 days\n",
       "136    6 days\n",
       "143    1 days\n",
       "145    4 days\n",
       "149    1 days\n",
       "dtype: timedelta64[ns]"
      ]
     },
     "execution_count": 11,
     "metadata": {},
     "output_type": "execute_result"
    }
   ],
   "source": [
    "#data submissão\n",
    "ds = pd.to_datetime(df['Data Submissao'], dayfirst=True).dropna(how='any', axis=0)\n",
    "#data resposta\n",
    "dr = pd.to_datetime(df['Data Resposta'], dayfirst=True).dropna(how='any', axis=0)\n",
    "\n",
    "#data tempo resposta = data resposta - data sumissão\n",
    "dtr = dr-ds\n",
    "\n",
    "#dropando os dados nulos\n",
    "dtr.dropna(how='any', axis=0)"
   ]
  },
  {
   "cell_type": "code",
   "execution_count": 17,
   "id": "419cfab0",
   "metadata": {},
   "outputs": [
    {
     "data": {
      "text/html": [
       "<div>\n",
       "<style scoped>\n",
       "    .dataframe tbody tr th:only-of-type {\n",
       "        vertical-align: middle;\n",
       "    }\n",
       "\n",
       "    .dataframe tbody tr th {\n",
       "        vertical-align: top;\n",
       "    }\n",
       "\n",
       "    .dataframe thead th {\n",
       "        text-align: right;\n",
       "    }\n",
       "</style>\n",
       "<table border=\"1\" class=\"dataframe\">\n",
       "  <thead>\n",
       "    <tr style=\"text-align: right;\">\n",
       "      <th></th>\n",
       "      <th>Data Submissao</th>\n",
       "      <th>Data Visualizacao</th>\n",
       "      <th>Data Resposta</th>\n",
       "      <th>Intervalo</th>\n",
       "    </tr>\n",
       "  </thead>\n",
       "  <tbody>\n",
       "    <tr>\n",
       "      <th>42</th>\n",
       "      <td>30/12/2021</td>\n",
       "      <td>30/12/2021</td>\n",
       "      <td>03/01/2022</td>\n",
       "      <td>4 days</td>\n",
       "    </tr>\n",
       "    <tr>\n",
       "      <th>44</th>\n",
       "      <td>31/12/2021</td>\n",
       "      <td>31/12/2021</td>\n",
       "      <td>31/12/2021</td>\n",
       "      <td>0 days</td>\n",
       "    </tr>\n",
       "    <tr>\n",
       "      <th>46</th>\n",
       "      <td>01/01/2022</td>\n",
       "      <td>01/01/2022</td>\n",
       "      <td>22/02/2022</td>\n",
       "      <td>52 days</td>\n",
       "    </tr>\n",
       "    <tr>\n",
       "      <th>48</th>\n",
       "      <td>01/01/2022</td>\n",
       "      <td>03/01/2022</td>\n",
       "      <td>06/01/2022</td>\n",
       "      <td>5 days</td>\n",
       "    </tr>\n",
       "    <tr>\n",
       "      <th>56</th>\n",
       "      <td>02/01/2022</td>\n",
       "      <td>02/01/2022</td>\n",
       "      <td>14/01/2022</td>\n",
       "      <td>12 days</td>\n",
       "    </tr>\n",
       "    <tr>\n",
       "      <th>104</th>\n",
       "      <td>12/01/2022</td>\n",
       "      <td>12/01/2022</td>\n",
       "      <td>12/01/2022</td>\n",
       "      <td>0 days</td>\n",
       "    </tr>\n",
       "    <tr>\n",
       "      <th>115</th>\n",
       "      <td>19/01/2022</td>\n",
       "      <td>19/01/2022</td>\n",
       "      <td>22/01/2022</td>\n",
       "      <td>3 days</td>\n",
       "    </tr>\n",
       "    <tr>\n",
       "      <th>121</th>\n",
       "      <td>31/01/2022</td>\n",
       "      <td>14/02/2021</td>\n",
       "      <td>17/02/2022</td>\n",
       "      <td>17 days</td>\n",
       "    </tr>\n",
       "  </tbody>\n",
       "</table>\n",
       "</div>"
      ],
      "text/plain": [
       "    Data Submissao Data Visualizacao Data Resposta Intervalo\n",
       "42      30/12/2021        30/12/2021    03/01/2022    4 days\n",
       "44      31/12/2021        31/12/2021    31/12/2021    0 days\n",
       "46      01/01/2022        01/01/2022    22/02/2022   52 days\n",
       "48      01/01/2022        03/01/2022    06/01/2022    5 days\n",
       "56      02/01/2022        02/01/2022    14/01/2022   12 days\n",
       "104     12/01/2022        12/01/2022    12/01/2022    0 days\n",
       "115     19/01/2022        19/01/2022    22/01/2022    3 days\n",
       "121     31/01/2022        14/02/2021    17/02/2022   17 days"
      ]
     },
     "execution_count": 17,
     "metadata": {},
     "output_type": "execute_result"
    }
   ],
   "source": [
    "#data resposta final\n",
    "drf = dtr.dropna(how='any', axis=0)\n",
    "\n",
    "#criando a coluna Intervalo\n",
    "df['Intervalo'] = drf\n",
    "\n",
    "#exibindo as informações da Data SUbmissão, Data visualização, Data Resposta, Intervalo\n",
    "df[['Data Submissao', 'Data Visualizacao', 'Data Resposta', 'Intervalo']].dropna()"
   ]
  },
  {
   "cell_type": "markdown",
   "id": "d343cca6",
   "metadata": {},
   "source": [
    "Com as informações acima, podemos fazer as seguintes observações:\n",
    "\n",
    "- Uma empresa demorou 52 dias para dar a resposta final da seleção;\n",
    "- Duas empresas deram a resposta no mesmo dia;"
   ]
  },
  {
   "cell_type": "markdown",
   "id": "b67cf7ab",
   "metadata": {},
   "source": [
    "#### Verificando o tipo de resposta sobre o processo seletivo"
   ]
  },
  {
   "cell_type": "code",
   "execution_count": 18,
   "id": "290d7267",
   "metadata": {
    "scrolled": false
   },
   "outputs": [
    {
     "data": {
      "text/html": [
       "<div>\n",
       "<style scoped>\n",
       "    .dataframe tbody tr th:only-of-type {\n",
       "        vertical-align: middle;\n",
       "    }\n",
       "\n",
       "    .dataframe tbody tr th {\n",
       "        vertical-align: top;\n",
       "    }\n",
       "\n",
       "    .dataframe thead th {\n",
       "        text-align: right;\n",
       "    }\n",
       "</style>\n",
       "<table border=\"1\" class=\"dataframe\">\n",
       "  <thead>\n",
       "    <tr style=\"text-align: right;\">\n",
       "      <th></th>\n",
       "      <th>Data Submissao</th>\n",
       "      <th>Data Visualizacao</th>\n",
       "      <th>Data Resposta</th>\n",
       "      <th>Intervalo</th>\n",
       "      <th>Resposta</th>\n",
       "    </tr>\n",
       "  </thead>\n",
       "  <tbody>\n",
       "    <tr>\n",
       "      <th>44</th>\n",
       "      <td>31/12/2021</td>\n",
       "      <td>31/12/2021</td>\n",
       "      <td>31/12/2021</td>\n",
       "      <td>0 days</td>\n",
       "      <td>Generica</td>\n",
       "    </tr>\n",
       "    <tr>\n",
       "      <th>46</th>\n",
       "      <td>01/01/2022</td>\n",
       "      <td>01/01/2022</td>\n",
       "      <td>22/02/2022</td>\n",
       "      <td>52 days</td>\n",
       "      <td>Generica</td>\n",
       "    </tr>\n",
       "    <tr>\n",
       "      <th>48</th>\n",
       "      <td>01/01/2022</td>\n",
       "      <td>03/01/2022</td>\n",
       "      <td>06/01/2022</td>\n",
       "      <td>5 days</td>\n",
       "      <td>Generica</td>\n",
       "    </tr>\n",
       "    <tr>\n",
       "      <th>56</th>\n",
       "      <td>02/01/2022</td>\n",
       "      <td>02/01/2022</td>\n",
       "      <td>14/01/2022</td>\n",
       "      <td>12 days</td>\n",
       "      <td>Generica</td>\n",
       "    </tr>\n",
       "    <tr>\n",
       "      <th>104</th>\n",
       "      <td>12/01/2022</td>\n",
       "      <td>12/01/2022</td>\n",
       "      <td>12/01/2022</td>\n",
       "      <td>0 days</td>\n",
       "      <td>Generica</td>\n",
       "    </tr>\n",
       "    <tr>\n",
       "      <th>115</th>\n",
       "      <td>19/01/2022</td>\n",
       "      <td>19/01/2022</td>\n",
       "      <td>22/01/2022</td>\n",
       "      <td>3 days</td>\n",
       "      <td>Generica</td>\n",
       "    </tr>\n",
       "    <tr>\n",
       "      <th>121</th>\n",
       "      <td>31/01/2022</td>\n",
       "      <td>14/02/2021</td>\n",
       "      <td>17/02/2022</td>\n",
       "      <td>17 days</td>\n",
       "      <td>Generica</td>\n",
       "    </tr>\n",
       "  </tbody>\n",
       "</table>\n",
       "</div>"
      ],
      "text/plain": [
       "    Data Submissao Data Visualizacao Data Resposta Intervalo  Resposta\n",
       "44      31/12/2021        31/12/2021    31/12/2021    0 days  Generica\n",
       "46      01/01/2022        01/01/2022    22/02/2022   52 days  Generica\n",
       "48      01/01/2022        03/01/2022    06/01/2022    5 days  Generica\n",
       "56      02/01/2022        02/01/2022    14/01/2022   12 days  Generica\n",
       "104     12/01/2022        12/01/2022    12/01/2022    0 days  Generica\n",
       "115     19/01/2022        19/01/2022    22/01/2022    3 days  Generica\n",
       "121     31/01/2022        14/02/2021    17/02/2022   17 days  Generica"
      ]
     },
     "execution_count": 18,
     "metadata": {},
     "output_type": "execute_result"
    }
   ],
   "source": [
    "df[['Data Submissao', 'Data Visualizacao', 'Data Resposta', 'Intervalo', 'Resposta']].dropna()"
   ]
  },
  {
   "cell_type": "markdown",
   "id": "3f923370",
   "metadata": {},
   "source": [
    "É observado que todas as resposta foram genéricas, não tiveram um direcionamento para o candidato e/ou falta de feeedback."
   ]
  },
  {
   "cell_type": "markdown",
   "id": "726cfa0f",
   "metadata": {},
   "source": [
    "#### Quantidade de Submissões X Dia"
   ]
  },
  {
   "cell_type": "code",
   "execution_count": 98,
   "id": "739771ad",
   "metadata": {},
   "outputs": [
    {
     "data": {
      "image/png": "[encoded data removed]",
      "text/plain": [
       "<Figure size 1080x576 with 1 Axes>"
      ]
     },
     "metadata": {},
     "output_type": "display_data"
    }
   ],
   "source": [
    "datas = df['Data Submissao'].dropna().unique()\n",
    "quantidade = df['Data Submissao'].value_counts()\n",
    "\n",
    "plt.figure(figsize= (15,8))\n",
    "ax = sns.barplot(datas, quantidade)\n",
    "plt.xticks(rotation=90)\n",
    "plt.show()\n"
   ]
  },
  {
   "cell_type": "code",
   "execution_count": 94,
   "id": "09ea2952",
   "metadata": {
    "collapsed": true
   },
   "outputs": [
    {
     "ename": "KeyError",
     "evalue": "\"None of [Index([('06/12/2021', '09/12/2021', '13/12/2021', '14/12/2021', '15/12/2021', '16/12/2021', '17/12/2021', '18/12/2021', '19/12/2021', '20/12/2021', '21/12/2021', '22/12/2021', '23/12/2021', '24/12/2021', '27/12/2021', '29/12/2021', '30/12/2021', '31/12/2021', '01/01/2022', '02/01/2022', '03/01/2022', '05/01/2022', '06/01/2022', '07/01/2022', '09/01/2022', '10/01/2022', '11/01/2022', '12/01/2022', '13/01/2022', '14/01/2022', '17/01/2022', '19/01/2022', '21/01/2022', '26/01/2022', '31/01/2022', '01/02/2022', '04/02/2022', '09/02/2022', '17/02/2022', '15/02/2022', '16/02/2022', '21/02/2022', '24/02/2022', '27/02/2022', '02/03/2022', '08/03/2022', '11/03/2022', '15/03/2022', '16/03/2022', '17/03/2022', '18/03/2022', '21/03/2022', '04/04/2022', '29/03/2022', '15/04/2022', '12/04/2022', '13/04/2022', '01/04/2022', '16/04/2022', '17/04/2022', '25/04/2022', '26/04/2022', '27/04/2022', '28/04/2022', '29/04/2022', '04/05/2022', '05/05/2022', '09/05/2022', '10/05/2022', '13/05/2022'), (12, 11, 8, 8, 7, 5, 5, 5, 5, 5, 4, 4, 4, 4, 4, 3, 3, 3, 3, 3, 3, 3, 3, 3, 3, 3, 2, 2, 2, 2, 2, 2, 2, 2, 2, 2, 2, 2, 2, 2, 2, 1, 1, 1, 1, 1, 1, 1, 1, 1, 1, 1, 1, 1, 1, 1, 1, 1, 1, 1, 1, 1, 1, 1, 1, 1, 1, 1, 1, 1)], dtype='object')] are in the [columns]\"",
     "output_type": "error",
     "traceback": [
      "\u001b[0;31m---------------------------------------------------------------------------\u001b[0m",
      "\u001b[0;31mKeyError\u001b[0m                                  Traceback (most recent call last)",
      "\u001b[0;32m/tmp/ipykernel_3747/2122315119.py\u001b[0m in \u001b[0;36m<module>\u001b[0;34m\u001b[0m\n\u001b[0;32m----> 1\u001b[0;31m \u001b[0mdf\u001b[0m\u001b[0;34m[\u001b[0m\u001b[0;34m[\u001b[0m\u001b[0mdatas\u001b[0m\u001b[0;34m,\u001b[0m \u001b[0mquantidade\u001b[0m\u001b[0;34m]\u001b[0m\u001b[0;34m]\u001b[0m\u001b[0;34m\u001b[0m\u001b[0;34m\u001b[0m\u001b[0m\n\u001b[0m",
      "\u001b[0;32m~/Documents/venv/lib/python3.8/site-packages/pandas/core/frame.py\u001b[0m in \u001b[0;36m__getitem__\u001b[0;34m(self, key)\u001b[0m\n\u001b[1;32m   3462\u001b[0m             \u001b[0;32mif\u001b[0m \u001b[0mis_iterator\u001b[0m\u001b[0;34m(\u001b[0m\u001b[0mkey\u001b[0m\u001b[0;34m)\u001b[0m\u001b[0;34m:\u001b[0m\u001b[0;34m\u001b[0m\u001b[0;34m\u001b[0m\u001b[0m\n\u001b[1;32m   3463\u001b[0m                 \u001b[0mkey\u001b[0m \u001b[0;34m=\u001b[0m \u001b[0mlist\u001b[0m\u001b[0;34m(\u001b[0m\u001b[0mkey\u001b[0m\u001b[0;34m)\u001b[0m\u001b[0;34m\u001b[0m\u001b[0;34m\u001b[0m\u001b[0m\n\u001b[0;32m-> 3464\u001b[0;31m             \u001b[0mindexer\u001b[0m \u001b[0;34m=\u001b[0m \u001b[0mself\u001b[0m\u001b[0;34m.\u001b[0m\u001b[0mloc\u001b[0m\u001b[0;34m.\u001b[0m\u001b[0m_get_listlike_indexer\u001b[0m\u001b[0;34m(\u001b[0m\u001b[0mkey\u001b[0m\u001b[0;34m,\u001b[0m \u001b[0maxis\u001b[0m\u001b[0;34m=\u001b[0m\u001b[0;36m1\u001b[0m\u001b[0;34m)\u001b[0m\u001b[0;34m[\u001b[0m\u001b[0;36m1\u001b[0m\u001b[0;34m]\u001b[0m\u001b[0;34m\u001b[0m\u001b[0;34m\u001b[0m\u001b[0m\n\u001b[0m\u001b[1;32m   3465\u001b[0m \u001b[0;34m\u001b[0m\u001b[0m\n\u001b[1;32m   3466\u001b[0m         \u001b[0;31m# take() does not accept boolean indexers\u001b[0m\u001b[0;34m\u001b[0m\u001b[0;34m\u001b[0m\u001b[0;34m\u001b[0m\u001b[0m\n",
      "\u001b[0;32m~/Documents/venv/lib/python3.8/site-packages/pandas/core/indexing.py\u001b[0m in \u001b[0;36m_get_listlike_indexer\u001b[0;34m(self, key, axis)\u001b[0m\n\u001b[1;32m   1312\u001b[0m             \u001b[0mkeyarr\u001b[0m\u001b[0;34m,\u001b[0m \u001b[0mindexer\u001b[0m\u001b[0;34m,\u001b[0m \u001b[0mnew_indexer\u001b[0m \u001b[0;34m=\u001b[0m \u001b[0max\u001b[0m\u001b[0;34m.\u001b[0m\u001b[0m_reindex_non_unique\u001b[0m\u001b[0;34m(\u001b[0m\u001b[0mkeyarr\u001b[0m\u001b[0;34m)\u001b[0m\u001b[0;34m\u001b[0m\u001b[0;34m\u001b[0m\u001b[0m\n\u001b[1;32m   1313\u001b[0m \u001b[0;34m\u001b[0m\u001b[0m\n\u001b[0;32m-> 1314\u001b[0;31m         \u001b[0mself\u001b[0m\u001b[0;34m.\u001b[0m\u001b[0m_validate_read_indexer\u001b[0m\u001b[0;34m(\u001b[0m\u001b[0mkeyarr\u001b[0m\u001b[0;34m,\u001b[0m \u001b[0mindexer\u001b[0m\u001b[0;34m,\u001b[0m \u001b[0maxis\u001b[0m\u001b[0;34m)\u001b[0m\u001b[0;34m\u001b[0m\u001b[0;34m\u001b[0m\u001b[0m\n\u001b[0m\u001b[1;32m   1315\u001b[0m \u001b[0;34m\u001b[0m\u001b[0m\n\u001b[1;32m   1316\u001b[0m         if needs_i8_conversion(ax.dtype) or isinstance(\n",
      "\u001b[0;32m~/Documents/venv/lib/python3.8/site-packages/pandas/core/indexing.py\u001b[0m in \u001b[0;36m_validate_read_indexer\u001b[0;34m(self, key, indexer, axis)\u001b[0m\n\u001b[1;32m   1372\u001b[0m                 \u001b[0;32mif\u001b[0m \u001b[0muse_interval_msg\u001b[0m\u001b[0;34m:\u001b[0m\u001b[0;34m\u001b[0m\u001b[0;34m\u001b[0m\u001b[0m\n\u001b[1;32m   1373\u001b[0m                     \u001b[0mkey\u001b[0m \u001b[0;34m=\u001b[0m \u001b[0mlist\u001b[0m\u001b[0;34m(\u001b[0m\u001b[0mkey\u001b[0m\u001b[0;34m)\u001b[0m\u001b[0;34m\u001b[0m\u001b[0;34m\u001b[0m\u001b[0m\n\u001b[0;32m-> 1374\u001b[0;31m                 \u001b[0;32mraise\u001b[0m \u001b[0mKeyError\u001b[0m\u001b[0;34m(\u001b[0m\u001b[0;34mf\"None of [{key}] are in the [{axis_name}]\"\u001b[0m\u001b[0;34m)\u001b[0m\u001b[0;34m\u001b[0m\u001b[0;34m\u001b[0m\u001b[0m\n\u001b[0m\u001b[1;32m   1375\u001b[0m \u001b[0;34m\u001b[0m\u001b[0m\n\u001b[1;32m   1376\u001b[0m             \u001b[0mnot_found\u001b[0m \u001b[0;34m=\u001b[0m \u001b[0mlist\u001b[0m\u001b[0;34m(\u001b[0m\u001b[0mensure_index\u001b[0m\u001b[0;34m(\u001b[0m\u001b[0mkey\u001b[0m\u001b[0;34m)\u001b[0m\u001b[0;34m[\u001b[0m\u001b[0mmissing_mask\u001b[0m\u001b[0;34m.\u001b[0m\u001b[0mnonzero\u001b[0m\u001b[0;34m(\u001b[0m\u001b[0;34m)\u001b[0m\u001b[0;34m[\u001b[0m\u001b[0;36m0\u001b[0m\u001b[0;34m]\u001b[0m\u001b[0;34m]\u001b[0m\u001b[0;34m.\u001b[0m\u001b[0munique\u001b[0m\u001b[0;34m(\u001b[0m\u001b[0;34m)\u001b[0m\u001b[0;34m)\u001b[0m\u001b[0;34m\u001b[0m\u001b[0;34m\u001b[0m\u001b[0m\n",
      "\u001b[0;31mKeyError\u001b[0m: \"None of [Index([('06/12/2021', '09/12/2021', '13/12/2021', '14/12/2021', '15/12/2021', '16/12/2021', '17/12/2021', '18/12/2021', '19/12/2021', '20/12/2021', '21/12/2021', '22/12/2021', '23/12/2021', '24/12/2021', '27/12/2021', '29/12/2021', '30/12/2021', '31/12/2021', '01/01/2022', '02/01/2022', '03/01/2022', '05/01/2022', '06/01/2022', '07/01/2022', '09/01/2022', '10/01/2022', '11/01/2022', '12/01/2022', '13/01/2022', '14/01/2022', '17/01/2022', '19/01/2022', '21/01/2022', '26/01/2022', '31/01/2022', '01/02/2022', '04/02/2022', '09/02/2022', '17/02/2022', '15/02/2022', '16/02/2022', '21/02/2022', '24/02/2022', '27/02/2022', '02/03/2022', '08/03/2022', '11/03/2022', '15/03/2022', '16/03/2022', '17/03/2022', '18/03/2022', '21/03/2022', '04/04/2022', '29/03/2022', '15/04/2022', '12/04/2022', '13/04/2022', '01/04/2022', '16/04/2022', '17/04/2022', '25/04/2022', '26/04/2022', '27/04/2022', '28/04/2022', '29/04/2022', '04/05/2022', '05/05/2022', '09/05/2022', '10/05/2022', '13/05/2022'), (12, 11, 8, 8, 7, 5, 5, 5, 5, 5, 4, 4, 4, 4, 4, 3, 3, 3, 3, 3, 3, 3, 3, 3, 3, 3, 2, 2, 2, 2, 2, 2, 2, 2, 2, 2, 2, 2, 2, 2, 2, 1, 1, 1, 1, 1, 1, 1, 1, 1, 1, 1, 1, 1, 1, 1, 1, 1, 1, 1, 1, 1, 1, 1, 1, 1, 1, 1, 1, 1)], dtype='object')] are in the [columns]\""
     ]
    }
   ],
   "source": []
  },
  {
   "cell_type": "code",
   "execution_count": null,
   "id": "01914425",
   "metadata": {},
   "outputs": [],
   "source": []
  }
 ],
 "metadata": {
  "kernelspec": {
   "display_name": "Python 3 (ipykernel)",
   "language": "python",
   "name": "python3"
  },
  "language_info": {
   "codemirror_mode": {
    "name": "ipython",
    "version": 3
   },
   "file_extension": ".py",
   "mimetype": "text/x-python",
   "name": "python",
   "nbconvert_exporter": "python",
   "pygments_lexer": "ipython3",
   "version": "3.8.10"
  }
 },
 "nbformat": 4,
 "nbformat_minor": 5
}
